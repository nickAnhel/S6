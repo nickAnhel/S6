{
 "cells": [
  {
   "cell_type": "markdown",
   "metadata": {},
   "source": [
    "#### ПР4 Реализация специальных алгоритмов на графах"
   ]
  },
  {
   "cell_type": "code",
   "execution_count": null,
   "metadata": {},
   "outputs": [],
   "source": [
    "import prettytable\n",
    "import matplotlib.pyplot as plt\n",
    "from scipy.cluster.hierarchy import dendrogram"
   ]
  },
  {
   "cell_type": "markdown",
   "metadata": {},
   "source": [
    "Создание функции `wpgma`, которая реализует алгоритм WPGMA для заданной матрицы расстояний."
   ]
  },
  {
   "cell_type": "code",
   "execution_count": 223,
   "metadata": {},
   "outputs": [],
   "source": [
    "def get_matrix_min_dist_edge(matrix: list[list[float]]) -> tuple[int, int, float]:\n",
    "    min_dist = None\n",
    "    a, b = 0, 0\n",
    "\n",
    "    for i, row in enumerate(matrix):\n",
    "        for j, it in enumerate(row):\n",
    "            if it and (min_dist is None or it < min_dist):\n",
    "                min_dist = it\n",
    "                a, b = i, j\n",
    "\n",
    "    return a, b, min_dist\n",
    "\n",
    "\n",
    "def wpgma(\n",
    "    matrix: list[list[float]],\n",
    "    labels: list[str],\n",
    "    clusters: list[list[int]],\n",
    "    linkage_matrix: list[list[int | float]],\n",
    "    next_cluster_idx: int,\n",
    ") -> list[list[int | float]]:\n",
    "    n = len(matrix)\n",
    "\n",
    "    if n == 1:\n",
    "        print(f\"Final cluster: {labels[0]}\")\n",
    "        return linkage_matrix\n",
    "\n",
    "    # Print matrix\n",
    "    table = prettytable.PrettyTable([\"\"] + labels)\n",
    "    for label, row in zip(labels, matrix):\n",
    "        table.add_row([label] + row)\n",
    "    print(table, end=\"\\n\\n\")\n",
    "\n",
    "    # Find two nearest clusters\n",
    "    a, b, dist = get_matrix_min_dist_edge(matrix)\n",
    "    print(f\"Merge {labels[a]} and {labels[b]}\")\n",
    "\n",
    "    # Update labels\n",
    "    new_labels = [labels[i] for i in range(n) if i not in (a, b)] + [f\"({labels[a]},{labels[b]})\"]\n",
    "\n",
    "    # Update clusters and linkage matrix\n",
    "    linkage_matrix.append([clusters[a][0], clusters[b][0], dist / 2, len(clusters[a]) + len(clusters[b])])\n",
    "    new_clusters = [clusters[i] for i in range(n) if i not in (a, b)] + [[next_cluster_idx]]\n",
    "    next_cluster_idx += 1\n",
    "\n",
    "    # Create new matrix\n",
    "    new_matrix = []\n",
    "\n",
    "    # Calculate new weights\n",
    "    for i in range(n):\n",
    "        if i in (a, b):\n",
    "            continue\n",
    "\n",
    "        row = []\n",
    "        for j in range(n):\n",
    "            if j in (a, b):\n",
    "                continue\n",
    "            row.append(matrix[i][j])\n",
    "\n",
    "        new_matrix.append(row)\n",
    "\n",
    "    # Culculate weights for new cluster\n",
    "    new_row = []\n",
    "    for i in range(n):\n",
    "        if i in (a, b):\n",
    "            continue\n",
    "\n",
    "        dist = (matrix[a][i] + matrix[b][i]) / 2\n",
    "        new_row.append(dist)\n",
    "\n",
    "    # Add new column to matrix\n",
    "    for i, row in enumerate(new_matrix):\n",
    "        row.append(new_row[i])\n",
    "\n",
    "    # Add new row to matrix\n",
    "    new_row.append(0.0)\n",
    "    new_matrix.append(new_row)\n",
    "\n",
    "    return wpgma(new_matrix, new_labels, new_clusters, linkage_matrix, next_cluster_idx)"
   ]
  },
  {
   "cell_type": "markdown",
   "metadata": {},
   "source": [
    "Тестирование алгоритма на графе из 5 вершин."
   ]
  },
  {
   "cell_type": "code",
   "execution_count": 224,
   "metadata": {},
   "outputs": [
    {
     "name": "stdout",
     "output_type": "stream",
     "text": [
      "+---+------+------+------+------+------+\n",
      "|   |  A   |  B   |  C   |  D   |  E   |\n",
      "+---+------+------+------+------+------+\n",
      "| A | 0.0  | 17.0 | 21.0 | 31.0 | 23.0 |\n",
      "| B | 17.0 | 0.0  | 30.0 | 34.0 | 21.0 |\n",
      "| C | 21.0 | 30.0 | 0.0  | 28.0 | 39.0 |\n",
      "| D | 31.0 | 34.0 | 28.0 | 0.0  | 43.0 |\n",
      "| E | 23.0 | 21.0 | 39.0 | 43.0 | 0.0  |\n",
      "+---+------+------+------+------+------+\n",
      "\n",
      "Merge A and B\n",
      "+-------+------+------+------+-------+\n",
      "|       |  C   |  D   |  E   | (A,B) |\n",
      "+-------+------+------+------+-------+\n",
      "|   C   | 0.0  | 28.0 | 39.0 |  25.5 |\n",
      "|   D   | 28.0 | 0.0  | 43.0 |  32.5 |\n",
      "|   E   | 39.0 | 43.0 | 0.0  |  22.0 |\n",
      "| (A,B) | 25.5 | 32.5 | 22.0 |  0.0  |\n",
      "+-------+------+------+------+-------+\n",
      "\n",
      "Merge E and (A,B)\n",
      "+-----------+-------+-------+-----------+\n",
      "|           |   C   |   D   | (E,(A,B)) |\n",
      "+-----------+-------+-------+-----------+\n",
      "|     C     |  0.0  |  28.0 |   32.25   |\n",
      "|     D     |  28.0 |  0.0  |   37.75   |\n",
      "| (E,(A,B)) | 32.25 | 37.75 |    0.0    |\n",
      "+-----------+-------+-------+-----------+\n",
      "\n",
      "Merge C and D\n",
      "+-----------+-----------+-------+\n",
      "|           | (E,(A,B)) | (C,D) |\n",
      "+-----------+-----------+-------+\n",
      "| (E,(A,B)) |    0.0    |  35.0 |\n",
      "|   (C,D)   |    35.0   |  0.0  |\n",
      "+-----------+-----------+-------+\n",
      "\n",
      "Merge (E,(A,B)) and (C,D)\n",
      "Final cluster: ((E,(A,B)),(C,D))\n"
     ]
    }
   ],
   "source": [
    "dist_matrix_1 = [\n",
    "    [0.0, 17.0, 21.0, 31.0, 23.0],\n",
    "    [17.0, 0.0, 30.0, 34.0, 21.0],\n",
    "    [21.0, 30.0, 0.0, 28.0, 39.0],\n",
    "    [31.0, 34.0, 28.0, 0.0, 43.0],\n",
    "    [23.0, 21.0, 39.0, 43.0, 0.0],\n",
    "]\n",
    "\n",
    "linkage_matrix_1 = wpgma(\n",
    "    matrix=dist_matrix_1,\n",
    "    labels=[\"A\", \"B\", \"C\", \"D\", \"E\"],\n",
    "    clusters=[[i] for i in range(5)],\n",
    "    linkage_matrix=[],\n",
    "    next_cluster_idx=5,\n",
    ")"
   ]
  },
  {
   "cell_type": "markdown",
   "metadata": {},
   "source": [
    "Тестирование алгоритма на графе из 10 вершин."
   ]
  },
  {
   "cell_type": "code",
   "execution_count": 225,
   "metadata": {},
   "outputs": [
    {
     "name": "stdout",
     "output_type": "stream",
     "text": [
      "+---+------+------+------+-----+-----+------+-----+------+-----+-----+\n",
      "|   |  A   |  B   |  C   |  D  |  E  |  F   |  G  |  H   |  I  |  J  |\n",
      "+---+------+------+------+-----+-----+------+-----+------+-----+-----+\n",
      "| A | 0.0  | 5.0  | 9.0  | 9.0 | 8.0 | 7.0  | 6.0 | 10.0 | 9.0 | 8.0 |\n",
      "| B | 5.0  | 0.0  | 10.0 | 8.0 | 7.0 | 6.0  | 5.0 | 9.0  | 8.0 | 7.0 |\n",
      "| C | 9.0  | 10.0 | 0.0  | 8.0 | 9.0 | 10.0 | 9.0 | 9.0  | 8.0 | 7.0 |\n",
      "| D | 9.0  | 8.0  | 8.0  | 0.0 | 5.0 | 6.0  | 7.0 | 6.0  | 7.0 | 6.0 |\n",
      "| E | 8.0  | 7.0  | 9.0  | 5.0 | 0.0 | 5.0  | 6.0 | 7.0  | 6.0 | 5.0 |\n",
      "| F | 7.0  | 6.0  | 10.0 | 6.0 | 5.0 | 0.0  | 4.0 | 5.0  | 5.0 | 4.0 |\n",
      "| G | 6.0  | 5.0  | 9.0  | 7.0 | 6.0 | 4.0  | 0.0 | 4.0  | 4.0 | 3.0 |\n",
      "| H | 10.0 | 9.0  | 9.0  | 6.0 | 7.0 | 5.0  | 4.0 | 0.0  | 3.0 | 4.0 |\n",
      "| I | 9.0  | 8.0  | 8.0  | 7.0 | 6.0 | 5.0  | 4.0 | 3.0  | 0.0 | 3.0 |\n",
      "| J | 8.0  | 7.0  | 7.0  | 6.0 | 5.0 | 4.0  | 3.0 | 4.0  | 3.0 | 0.0 |\n",
      "+---+------+------+------+-----+-----+------+-----+------+-----+-----+\n",
      "\n",
      "Merge G and J\n",
      "+-------+------+------+------+-----+-----+------+------+-----+-------+\n",
      "|       |  A   |  B   |  C   |  D  |  E  |  F   |  H   |  I  | (G,J) |\n",
      "+-------+------+------+------+-----+-----+------+------+-----+-------+\n",
      "|   A   | 0.0  | 5.0  | 9.0  | 9.0 | 8.0 | 7.0  | 10.0 | 9.0 |  7.0  |\n",
      "|   B   | 5.0  | 0.0  | 10.0 | 8.0 | 7.0 | 6.0  | 9.0  | 8.0 |  6.0  |\n",
      "|   C   | 9.0  | 10.0 | 0.0  | 8.0 | 9.0 | 10.0 | 9.0  | 8.0 |  8.0  |\n",
      "|   D   | 9.0  | 8.0  | 8.0  | 0.0 | 5.0 | 6.0  | 6.0  | 7.0 |  6.5  |\n",
      "|   E   | 8.0  | 7.0  | 9.0  | 5.0 | 0.0 | 5.0  | 7.0  | 6.0 |  5.5  |\n",
      "|   F   | 7.0  | 6.0  | 10.0 | 6.0 | 5.0 | 0.0  | 5.0  | 5.0 |  4.0  |\n",
      "|   H   | 10.0 | 9.0  | 9.0  | 6.0 | 7.0 | 5.0  | 0.0  | 3.0 |  4.0  |\n",
      "|   I   | 9.0  | 8.0  | 8.0  | 7.0 | 6.0 | 5.0  | 3.0  | 0.0 |  3.5  |\n",
      "| (G,J) | 7.0  | 6.0  | 8.0  | 6.5 | 5.5 | 4.0  | 4.0  | 3.5 |  0.0  |\n",
      "+-------+------+------+------+-----+-----+------+------+-----+-------+\n",
      "\n",
      "Merge H and I\n",
      "+-------+-----+------+------+-----+-----+------+-------+-------+\n",
      "|       |  A  |  B   |  C   |  D  |  E  |  F   | (G,J) | (H,I) |\n",
      "+-------+-----+------+------+-----+-----+------+-------+-------+\n",
      "|   A   | 0.0 | 5.0  | 9.0  | 9.0 | 8.0 | 7.0  |  7.0  |  9.5  |\n",
      "|   B   | 5.0 | 0.0  | 10.0 | 8.0 | 7.0 | 6.0  |  6.0  |  8.5  |\n",
      "|   C   | 9.0 | 10.0 | 0.0  | 8.0 | 9.0 | 10.0 |  8.0  |  8.5  |\n",
      "|   D   | 9.0 | 8.0  | 8.0  | 0.0 | 5.0 | 6.0  |  6.5  |  6.5  |\n",
      "|   E   | 8.0 | 7.0  | 9.0  | 5.0 | 0.0 | 5.0  |  5.5  |  6.5  |\n",
      "|   F   | 7.0 | 6.0  | 10.0 | 6.0 | 5.0 | 0.0  |  4.0  |  5.0  |\n",
      "| (G,J) | 7.0 | 6.0  | 8.0  | 6.5 | 5.5 | 4.0  |  0.0  |  3.75 |\n",
      "| (H,I) | 9.5 | 8.5  | 8.5  | 6.5 | 6.5 | 5.0  |  3.75 |  0.0  |\n",
      "+-------+-----+------+------+-----+-----+------+-------+-------+\n",
      "\n",
      "Merge (G,J) and (H,I)\n",
      "+---------------+------+------+------+-----+-----+------+---------------+\n",
      "|               |  A   |  B   |  C   |  D  |  E  |  F   | ((G,J),(H,I)) |\n",
      "+---------------+------+------+------+-----+-----+------+---------------+\n",
      "|       A       | 0.0  | 5.0  | 9.0  | 9.0 | 8.0 | 7.0  |      8.25     |\n",
      "|       B       | 5.0  | 0.0  | 10.0 | 8.0 | 7.0 | 6.0  |      7.25     |\n",
      "|       C       | 9.0  | 10.0 | 0.0  | 8.0 | 9.0 | 10.0 |      8.25     |\n",
      "|       D       | 9.0  | 8.0  | 8.0  | 0.0 | 5.0 | 6.0  |      6.5      |\n",
      "|       E       | 8.0  | 7.0  | 9.0  | 5.0 | 0.0 | 5.0  |      6.0      |\n",
      "|       F       | 7.0  | 6.0  | 10.0 | 6.0 | 5.0 | 0.0  |      4.5      |\n",
      "| ((G,J),(H,I)) | 8.25 | 7.25 | 8.25 | 6.5 | 6.0 | 4.5  |      0.0      |\n",
      "+---------------+------+------+------+-----+-----+------+---------------+\n",
      "\n",
      "Merge F and ((G,J),(H,I))\n",
      "+-------------------+-------+-------+-------+------+-----+-------------------+\n",
      "|                   |   A   |   B   |   C   |  D   |  E  | (F,((G,J),(H,I))) |\n",
      "+-------------------+-------+-------+-------+------+-----+-------------------+\n",
      "|         A         |  0.0  |  5.0  |  9.0  | 9.0  | 8.0 |       7.625       |\n",
      "|         B         |  5.0  |  0.0  |  10.0 | 8.0  | 7.0 |       6.625       |\n",
      "|         C         |  9.0  |  10.0 |  0.0  | 8.0  | 9.0 |       9.125       |\n",
      "|         D         |  9.0  |  8.0  |  8.0  | 0.0  | 5.0 |        6.25       |\n",
      "|         E         |  8.0  |  7.0  |  9.0  | 5.0  | 0.0 |        5.5        |\n",
      "| (F,((G,J),(H,I))) | 7.625 | 6.625 | 9.125 | 6.25 | 5.5 |        0.0        |\n",
      "+-------------------+-------+-------+-------+------+-----+-------------------+\n",
      "\n",
      "Merge A and B\n",
      "+-------------------+-------+------+-----+-------------------+-------+\n",
      "|                   |   C   |  D   |  E  | (F,((G,J),(H,I))) | (A,B) |\n",
      "+-------------------+-------+------+-----+-------------------+-------+\n",
      "|         C         |  0.0  | 8.0  | 9.0 |       9.125       |  9.5  |\n",
      "|         D         |  8.0  | 0.0  | 5.0 |        6.25       |  8.5  |\n",
      "|         E         |  9.0  | 5.0  | 0.0 |        5.5        |  7.5  |\n",
      "| (F,((G,J),(H,I))) | 9.125 | 6.25 | 5.5 |        0.0        | 7.125 |\n",
      "|       (A,B)       |  9.5  | 8.5  | 7.5 |       7.125       |  0.0  |\n",
      "+-------------------+-------+------+-----+-------------------+-------+\n",
      "\n",
      "Merge D and E\n",
      "+-------------------+-------+-------------------+-------+-------+\n",
      "|                   |   C   | (F,((G,J),(H,I))) | (A,B) | (D,E) |\n",
      "+-------------------+-------+-------------------+-------+-------+\n",
      "|         C         |  0.0  |       9.125       |  9.5  |  8.5  |\n",
      "| (F,((G,J),(H,I))) | 9.125 |        0.0        | 7.125 | 5.875 |\n",
      "|       (A,B)       |  9.5  |       7.125       |  0.0  |  8.0  |\n",
      "|       (D,E)       |  8.5  |       5.875       |  8.0  |  0.0  |\n",
      "+-------------------+-------+-------------------+-------+-------+\n",
      "\n",
      "Merge (F,((G,J),(H,I))) and (D,E)\n",
      "+---------------------------+--------+--------+---------------------------+\n",
      "|                           |   C    | (A,B)  | ((F,((G,J),(H,I))),(D,E)) |\n",
      "+---------------------------+--------+--------+---------------------------+\n",
      "|             C             |  0.0   |  9.5   |           8.8125          |\n",
      "|           (A,B)           |  9.5   |  0.0   |           7.5625          |\n",
      "| ((F,((G,J),(H,I))),(D,E)) | 8.8125 | 7.5625 |            0.0            |\n",
      "+---------------------------+--------+--------+---------------------------+\n",
      "\n",
      "Merge (A,B) and ((F,((G,J),(H,I))),(D,E))\n",
      "+-----------------------------------+---------+-----------------------------------+\n",
      "|                                   |    C    | ((A,B),((F,((G,J),(H,I))),(D,E))) |\n",
      "+-----------------------------------+---------+-----------------------------------+\n",
      "|                 C                 |   0.0   |              9.15625              |\n",
      "| ((A,B),((F,((G,J),(H,I))),(D,E))) | 9.15625 |                0.0                |\n",
      "+-----------------------------------+---------+-----------------------------------+\n",
      "\n",
      "Merge C and ((A,B),((F,((G,J),(H,I))),(D,E)))\n",
      "Final cluster: (C,((A,B),((F,((G,J),(H,I))),(D,E))))\n"
     ]
    }
   ],
   "source": [
    "dist_matrix_2 = [\n",
    "    [0.0, 5.0, 9.0, 9.0, 8.0, 7.0, 6.0, 10.0, 9.0, 8.0],\n",
    "    [5.0, 0.0, 10.0, 8.0, 7.0, 6.0, 5.0, 9.0, 8.0, 7.0],\n",
    "    [9.0, 10.0, 0.0, 8.0, 9.0, 10.0, 9.0, 9.0, 8.0, 7.0],\n",
    "    [9.0, 8.0, 8.0, 0.0, 5.0, 6.0, 7.0, 6.0, 7.0, 6.0],\n",
    "    [8.0, 7.0, 9.0, 5.0, 0.0, 5.0, 6.0, 7.0, 6.0, 5.0],\n",
    "    [7.0, 6.0, 10.0, 6.0, 5.0, 0.0, 4.0, 5.0, 5.0, 4.0],\n",
    "    [6.0, 5.0, 9.0, 7.0, 6.0, 4.0, 0.0, 4.0, 4.0, 3.0],\n",
    "    [10.0, 9.0, 9.0, 6.0, 7.0, 5.0, 4.0, 0.0, 3.0, 4.0],\n",
    "    [9.0, 8.0, 8.0, 7.0, 6.0, 5.0, 4.0, 3.0, 0.0, 3.0],\n",
    "    [8.0, 7.0, 7.0, 6.0, 5.0, 4.0, 3.0, 4.0, 3.0, 0.0],\n",
    "]\n",
    "\n",
    "linkage_matrix_2 = wpgma(\n",
    "    matrix=dist_matrix_2,\n",
    "    labels=[\"A\", \"B\", \"C\", \"D\", \"E\", \"F\", \"G\", \"H\", \"I\", \"J\"],\n",
    "    clusters=[[i] for i in range(10)],\n",
    "    linkage_matrix=[],\n",
    "    next_cluster_idx=10,\n",
    ")"
   ]
  },
  {
   "cell_type": "markdown",
   "metadata": {},
   "source": [
    "Создание функции `draw_dendrogram` для вывода дендрограммы на основе матрицы связей."
   ]
  },
  {
   "cell_type": "code",
   "execution_count": null,
   "metadata": {},
   "outputs": [],
   "source": [
    "def draw_dendrogram(linkage_matrix, labels):\n",
    "    plt.figure(figsize=(10, 5))\n",
    "    dendro = dendrogram(linkage_matrix, labels=labels, show_leaf_counts=True)\n",
    "\n",
    "    for i, d, c in zip(dendro['icoord'], dendro['dcoord'], dendro['color_list']):\n",
    "        x = 0.5 * (i[1] + i[2])\n",
    "        y = d[1]\n",
    "        plt.plot(x, y, 'o', c=c)\n",
    "        plt.annotate(\n",
    "            f\"{y:.2f}\",\n",
    "            (x, y),\n",
    "            xytext=(0, -15),\n",
    "            textcoords='offset points',\n",
    "            ha='center',\n",
    "            fontsize=9,\n",
    "            color=c,\n",
    "        )\n",
    "\n",
    "    plt.title(\"WPGMA Dendrogram\")\n",
    "    plt.xlabel(\"Clusters\")\n",
    "    plt.ylabel(\"Distance\")\n",
    "    plt.tight_layout()\n",
    "    plt.show()\n"
   ]
  },
  {
   "cell_type": "markdown",
   "metadata": {},
   "source": [
    "Вывод полученной дендрограммы для графа из 5 вершин."
   ]
  },
  {
   "cell_type": "code",
   "execution_count": null,
   "metadata": {},
   "outputs": [
    {
     "data": {
      "image/png": "[encoded data removed]",
      "text/plain": [
       "<Figure size 1000x500 with 1 Axes>"
      ]
     },
     "metadata": {},
     "output_type": "display_data"
    }
   ],
   "source": [
    "draw_dendrogram(linkage_matrix_1, [\"A\", \"B\", \"C\", \"D\", \"E\"])"
   ]
  },
  {
   "cell_type": "markdown",
   "metadata": {},
   "source": [
    "Вывод полученной дендрограммы для графа из 10 вершин."
   ]
  },
  {
   "cell_type": "code",
   "execution_count": null,
   "metadata": {},
   "outputs": [
    {
     "data": {
      "image/png": "[encoded data removed]",
      "text/plain": [
       "<Figure size 1000x500 with 1 Axes>"
      ]
     },
     "metadata": {},
     "output_type": "display_data"
    }
   ],
   "source": [
    "draw_dendrogram(linkage_matrix_2, [\"A\", \"B\", \"C\", \"D\", \"E\", \"F\", \"G\", \"H\", \"I\", \"J\"])"
   ]
  }
 ],
 "metadata": {
  "kernelspec": {
   "display_name": ".venv",
   "language": "python",
   "name": "python3"
  },
  "language_info": {
   "codemirror_mode": {
    "name": "ipython",
    "version": 3
   },
   "file_extension": ".py",
   "mimetype": "text/x-python",
   "name": "python",
   "nbconvert_exporter": "python",
   "pygments_lexer": "ipython3",
   "version": "3.12.9"
  }
 },
 "nbformat": 4,
 "nbformat_minor": 2
}

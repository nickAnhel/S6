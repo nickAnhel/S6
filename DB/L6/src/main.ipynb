{
 "cells": [
  {
   "cell_type": "code",
   "execution_count": 3,
   "metadata": {},
   "outputs": [],
   "source": [
    "import database as db\n",
    "from table import print_table"
   ]
  },
  {
   "cell_type": "code",
   "execution_count": 3,
   "metadata": {},
   "outputs": [],
   "source": [
    "res = await db.execute(\"\"\"\n",
    "    create table if not exists locations (\n",
    "        location_id int PRIMARY KEY,\n",
    "        city varchar(30),\n",
    "        postal_code varchar(12)\n",
    "    );\n",
    "\"\"\")"
   ]
  },
  {
   "cell_type": "code",
   "execution_count": null,
   "metadata": {},
   "outputs": [
    {
     "name": "stdout",
     "output_type": "stream",
     "text": [
      "Added 10 rows\n"
     ]
    }
   ],
   "source": [
    "res = await db.execute(\"\"\"\n",
    "    insert into locations\n",
    "    values\n",
    "    (1, 'Roma', '00989'),\n",
    "    (2, 'Venice', '10934'),\n",
    "    (3, 'Tokyo', '1689'),\n",
    "    (4, 'Hiroshima', '6823'),\n",
    "    (5, 'Southlake', '26192'),\n",
    "    (6, 'South San Francisco', '99236'),\n",
    "    (7, 'South Brunswick', '50090'),\n",
    "    (8, 'Seattle', '98199'),\n",
    "    (9, 'Toronto', 'M5V 2L7'),\n",
    "    (10, 'Whitehorse', 'YSW 9T2');\n",
    "\"\"\")\n",
    "\n",
    "print(f\"Added {res.rowcount} rows\")"
   ]
  },
  {
   "cell_type": "code",
   "execution_count": 18,
   "metadata": {},
   "outputs": [
    {
     "name": "stdout",
     "output_type": "stream",
     "text": [
      "+----+---------------------+-------------+\n",
      "| id |         city        | postal_code |\n",
      "+----+---------------------+-------------+\n",
      "| 1  |         Roma        |    00989    |\n",
      "| 2  |        Venice       |    10934    |\n",
      "| 3  |        Tokyo        |     1689    |\n",
      "| 4  |      Hiroshima      |     6823    |\n",
      "| 5  |      Southlake      |    26192    |\n",
      "| 6  | South San Francisco |    99236    |\n",
      "| 7  |   South Brunswick   |    50090    |\n",
      "| 8  |       Seattle       |    98199    |\n",
      "| 9  |       Toronto       |   M5V 2L7   |\n",
      "| 10 |      Whitehorse     |   YSW 9T2   |\n",
      "+----+---------------------+-------------+\n"
     ]
    }
   ],
   "source": [
    "res = await db.execute(\"select * from locations;\")\n",
    "print_table([\"id\", \"city\", \"postal_code\"], res.fetchall())\n"
   ]
  },
  {
   "cell_type": "code",
   "execution_count": null,
   "metadata": {},
   "outputs": [],
   "source": [
    "res = await db.execute(\"\"\"\n",
    "    alter table employees\n",
    "    add location_id int,\n",
    "    add foreign key(location_id) references locations(location_id);\n",
    "\"\"\")"
   ]
  },
  {
   "cell_type": "code",
   "execution_count": null,
   "metadata": {},
   "outputs": [
    {
     "name": "stdout",
     "output_type": "stream",
     "text": [
      "+----+-------------+-------------+------------+--------+------------+---------------+-------------+\n",
      "| id |  first_name |  last_name  |   job_id   | salary | manager_id | department_id | location_id |\n",
      "+----+-------------+-------------+------------+--------+------------+---------------+-------------+\n",
      "| 1  |    Steven   |     King    |  AD_PRES   | 24000  |    None    |       90      |      1      |\n",
      "| 2  |    Neena    |   Kochhar   |   AD_VP    | 17000  |     1      |       90      |      2      |\n",
      "| 3  |     Lex     |   De Haan   |   AD_VP    | 17000  |     1      |       90      |      3      |\n",
      "| 4  |  Alexander  |    Hunold   |  IT_PROG   |  9000  |     3      |       60      |      4      |\n",
      "| 5  |    Bruce    |    Ernst    |  IT_PROG   |  6000  |     4      |       60      |      5      |\n",
      "| 6  |    David    |    Austin   |  IT_PROG   |  4800  |     4      |       60      |      6      |\n",
      "| 7  |    Valli    |  Pataballa  |  IT_PROG   |  4800  |     4      |       60      |      7      |\n",
      "| 8  |    Diana    |   Lorentz   |  IT_PROG   |  4200  |     4      |       60      |      8      |\n",
      "| 9  |    Nancy    |  Greenberg  |   FI_MGR   | 12008  |     2      |      100      |      9      |\n",
      "| 10 |    Daniel   |    Faviet   | FI_ACCOUNT |  9000  |     9      |      100      |      10     |\n",
      "| 11 |     John    |     Chen    | FI_ACCOUNT |  8200  |     9      |      100      |      1      |\n",
      "| 12 |    Ismael   |   Sciarra   | FI_ACCOUNT |  7700  |     9      |      100      |      2      |\n",
      "| 13 | Jose Manuel |    Urman    | FI_ACCOUNT |  7800  |     9      |      100      |      3      |\n",
      "| 14 |     Luis    |     Popp    | FI_ACCOUNT |  6900  |     9      |      100      |      4      |\n",
      "| 15 |     Den     |   Raphaely  |   PU_MAN   | 11000  |     1      |       30      |      5      |\n",
      "| 16 |  Alexander  |     Khoo    |  PU_CLERK  |  3100  |     15     |       30      |      6      |\n",
      "| 17 |    Shelli   |    Baida    |  PU_CLERK  |  2900  |     15     |       30      |      7      |\n",
      "| 18 |    Sigal    |    Tobias   |  PU_CLERK  |  2800  |     15     |       30      |      8      |\n",
      "| 19 |     Guy     |    Himuro   |  PU_CLERK  |  2600  |     15     |       30      |      9      |\n",
      "| 20 |    Karen    |  Colmenares |  PU_CLERK  |  2500  |     15     |       30      |      10     |\n",
      "| 21 |   Matthew   |    Weiss    |   ST_MAN   |  8000  |     1      |       50      |      1      |\n",
      "| 22 |     Adam    |    Fripp    |   ST_MAN   |  8200  |     1      |       50      |      2      |\n",
      "| 23 |    Payam    |   Kaufling  |   ST_MAN   |  7900  |     1      |       50      |      3      |\n",
      "| 24 |    Shanta   |   Vollman   |   ST_MAN   |  6500  |     1      |       50      |      4      |\n",
      "| 25 |    Kevin    |   Mourgos   |   ST_MAN   |  5800  |     1      |       50      |      5      |\n",
      "| 26 |    Julia    |    Nayer    |  ST_CLERK  |  3200  |     21     |       50      |      6      |\n",
      "| 27 |    Irene    | Mikkilineni |  ST_CLERK  |  2700  |     21     |       50      |      7      |\n",
      "| 28 |    James    |    Landry   |  ST_CLERK  |  2400  |     21     |       50      |      8      |\n",
      "| 29 |    Steven   |    Markle   |  ST_CLERK  |  2200  |     21     |       50      |      9      |\n",
      "| 30 |    Laura    |    Bissot   |  ST_CLERK  |  3300  |     22     |       50      |      10     |\n",
      "| 31 |    Mozhe    |   Atkinson  |  ST_CLERK  |  2800  |     22     |       50      |      1      |\n",
      "| 32 |    James    |    Marlow   |  ST_CLERK  |  2500  |     22     |       50      |      2      |\n",
      "| 33 |      TJ     |    Olson    |  ST_CLERK  |  2100  |     22     |       50      |      3      |\n",
      "| 34 |    Jason    |    Mallin   |  ST_CLERK  |  3300  |     23     |       50      |      4      |\n",
      "| 35 |   Michael   |    Rogers   |  ST_CLERK  |  2900  |     23     |       50      |      5      |\n",
      "| 36 |      Ki     |     Gee     |  ST_CLERK  |  2400  |     23     |       50      |      6      |\n",
      "| 37 |    Hazel    |  Philtanker |  ST_CLERK  |  2200  |     23     |       50      |      7      |\n",
      "| 38 |    Renske   |    Ladwig   |  ST_CLERK  |  3600  |     24     |       50      |      8      |\n",
      "| 39 |   Stephen   |    Stiles   |  ST_CLERK  |  3200  |     24     |       50      |      9      |\n",
      "| 40 |     John    |     Seo     |  ST_CLERK  |  2700  |     24     |       50      |      10     |\n",
      "| 41 |    Joshua   |    Patel    |  ST_CLERK  |  2500  |     24     |       50      |      1      |\n",
      "| 42 |    Trenna   |     Rajs    |  ST_CLERK  |  3500  |     25     |       50      |      2      |\n",
      "| 43 |    Curtis   |    Davies   |  ST_CLERK  |  3100  |     25     |       50      |      3      |\n",
      "| 44 |   Randall   |    Matos    |  ST_CLERK  |  2600  |     25     |       50      |      4      |\n",
      "| 45 |    Peter    |    Vargas   |  ST_CLERK  |  2500  |     25     |       50      |      5      |\n",
      "| 46 |     John    |   Russell   |   SA_MAN   | 14000  |     1      |       80      |      6      |\n",
      "| 47 |    Karen    |   Partners  |   SA_MAN   | 13500  |     1      |       80      |      7      |\n",
      "| 48 |   Alberto   |  Errazuriz  |   SA_MAN   | 12000  |     1      |       80      |      8      |\n",
      "| 49 |    Gerald   |  Cambrault  |   SA_MAN   | 11000  |     1      |       80      |      9      |\n",
      "| 50 |    Eleni    |   Zlotkey   |   SA_MAN   | 10500  |     1      |       80      |      10     |\n",
      "| 51 |   Jennifer  |    Whalen   |  AD_ASST   |  4400  |     2      |       10      |      1      |\n",
      "| 52 |   Michael   |  Hartstein  |   MK_MAN   | 13000  |     1      |       20      |      2      |\n",
      "| 53 |    Susan    |    Mavris   |   HR_REP   |  6500  |     2      |       40      |      3      |\n",
      "+----+-------------+-------------+------------+--------+------------+---------------+-------------+\n"
     ]
    }
   ],
   "source": [
    "await db.execute(\"\"\"\n",
    "    create sequence seq\n",
    "    increment 1\n",
    "    minvalue 1\n",
    "    maxvalue 10\n",
    "    start with 1\n",
    "    cycle;\n",
    "\"\"\")\n",
    "\n",
    "res = await db.execute(\"\"\"\n",
    "    update employees\n",
    "    set location_id = nextval('seq')\n",
    "    returning *;\n",
    "\"\"\")\n",
    "\n",
    "print_table([\"id\", \"first_name\", \"last_name\", \"job_id\", \"salary\", \"manager_id\", \"department_id\", \"location_id\"], res.fetchall())"
   ]
  },
  {
   "cell_type": "code",
   "execution_count": 27,
   "metadata": {},
   "outputs": [
    {
     "name": "stdout",
     "output_type": "stream",
     "text": [
      "+----+-------------+\n",
      "| id |  full_name  |\n",
      "+----+-------------+\n",
      "| 3  | Lex De Haan |\n",
      "+----+-------------+\n"
     ]
    }
   ],
   "source": [
    "res = await db.execute(\"\"\"\n",
    "    select employee_id, first_name || ' ' || last_name as full_name\n",
    "    from employees\n",
    "    where last_name like '% %';\n",
    "\"\"\")\n",
    "\n",
    "print_table([\"id\", \"full_name\"], res.fetchall())"
   ]
  },
  {
   "cell_type": "code",
   "execution_count": 28,
   "metadata": {},
   "outputs": [
    {
     "name": "stdout",
     "output_type": "stream",
     "text": [
      "+-----------------+------------+\n",
      "| department_name | min_salary |\n",
      "+-----------------+------------+\n",
      "|    Executive    |   17000    |\n",
      "|    Marketing    |   13000    |\n",
      "|      Sales      |   10500    |\n",
      "+-----------------+------------+\n"
     ]
    }
   ],
   "source": [
    "res = await db.execute(\"\"\"\n",
    "    select department_name, min(salary) as min_salary\n",
    "    from employees\n",
    "    join departments using(department_id)\n",
    "    group by department_name\n",
    "    having min(salary) > 10000\n",
    "    order by min_salary desc;\n",
    "\"\"\")\n",
    "\n",
    "print_table([\"department_name\", \"min_salary\"], res.fetchall())"
   ]
  },
  {
   "cell_type": "code",
   "execution_count": 32,
   "metadata": {},
   "outputs": [
    {
     "name": "stdout",
     "output_type": "stream",
     "text": [
      "+---------------------+-----------------+------------+\n",
      "|         city        | employees_count | salary_avg |\n",
      "+---------------------+-----------------+------------+\n",
      "|        Venice       |        6        |  8650.00   |\n",
      "|         Roma        |        6        |  8316.67   |\n",
      "|        Tokyo        |        6        |  7400.00   |\n",
      "|       Toronto       |        5        |  6201.60   |\n",
      "|      Hiroshima      |        5        |  5660.00   |\n",
      "|      Southlake      |        5        |  5640.00   |\n",
      "|      Whitehorse     |        5        |  5600.00   |\n",
      "| South San Francisco |        5        |  5500.00   |\n",
      "|   South Brunswick   |        5        |  5220.00   |\n",
      "|       Seattle       |        5        |  5000.00   |\n",
      "+---------------------+-----------------+------------+\n"
     ]
    }
   ],
   "source": [
    "res = await db.execute(\"\"\"\n",
    "    select city, count(employee_id) as employees_count, round(avg(salary), 2) as salary_avg\n",
    "    from employees\n",
    "    join locations using(location_id)\n",
    "    group by city\n",
    "    order by salary_avg desc;\n",
    "\"\"\")\n",
    "\n",
    "print_table([\"city\", \"employees_count\", \"salary_avg\"], res.fetchall())"
   ]
  },
  {
   "cell_type": "code",
   "execution_count": 5,
   "metadata": {},
   "outputs": [
    {
     "name": "stdout",
     "output_type": "stream",
     "text": [
      "+---------------+-----------------+------------+\n",
      "| department_id | department_name | manager_id |\n",
      "+---------------+-----------------+------------+\n",
      "|       40      | Human Resources |     53     |\n",
      "|       50      |     Shipping    |     22     |\n",
      "|       60      |        IT       |     4      |\n",
      "|       80      |      Sales      |     46     |\n",
      "|       90      |    Executive    |     1      |\n",
      "|      100      |     Finance     |     9      |\n",
      "+---------------+-----------------+------------+\n"
     ]
    }
   ],
   "source": [
    "res = await db.execute(\"\"\"\n",
    "    select * from select_data(30);\n",
    "\"\"\")\n",
    "\n",
    "print_table([\"department_id\", \"department_name\", \"manager_id\"], res.fetchall())"
   ]
  },
  {
   "cell_type": "code",
   "execution_count": 7,
   "metadata": {},
   "outputs": [
    {
     "name": "stdout",
     "output_type": "stream",
     "text": [
      "+---------------+-----------------+------------+\n",
      "| department_id | department_name | manager_id |\n",
      "+---------------+-----------------+------------+\n",
      "|       40      | Human Resources |     53     |\n",
      "|       50      |     Shipping    |     22     |\n",
      "|       60      |        IT       |     4      |\n",
      "|       80      |      Sales      |     46     |\n",
      "|       90      |    Executive    |     1      |\n",
      "|      100      |     Finance     |     9      |\n",
      "+---------------+-----------------+------------+\n"
     ]
    }
   ],
   "source": [
    "await db.execute(\"\"\"\n",
    "    create or replace function select_data_1(min_id int) returns setof departments as $$\n",
    "        select *\n",
    "        from departments\n",
    "        where department_id > min_id;\n",
    "    $$ language sql;\n",
    "\"\"\")\n",
    "\n",
    "res = await db.execute(\"\"\"\n",
    "    select *\n",
    "    from select_data_1(30);\n",
    "\"\"\")\n",
    "print_table([\"department_id\", \"department_name\", \"manager_id\"], res.fetchall())"
   ]
  },
  {
   "cell_type": "code",
   "execution_count": 9,
   "metadata": {},
   "outputs": [
    {
     "name": "stdout",
     "output_type": "stream",
     "text": [
      "+--------------------------------+-----------------+\n",
      "|           job_title            | employees_count |\n",
      "+--------------------------------+-----------------+\n",
      "|          Stock Clerk           |        20       |\n",
      "|        Purchasing Clerk        |        5        |\n",
      "|         Sales Manager          |        5        |\n",
      "|         Stock Manager          |        5        |\n",
      "|           Accountant           |        5        |\n",
      "|           Programmer           |        5        |\n",
      "| Administration Vice President  |        2        |\n",
      "|        Finance Manager         |        1        |\n",
      "|           President            |        1        |\n",
      "| Human Resources Representative |        1        |\n",
      "|    Administration Assistant    |        1        |\n",
      "|       Marketing Manager        |        1        |\n",
      "|       Purchasing Manager       |        1        |\n",
      "+--------------------------------+-----------------+\n"
     ]
    }
   ],
   "source": [
    "res = await db.execute(\"\"\"\n",
    "    select * from get_job_stats_pg();\n",
    "\"\"\")\n",
    "\n",
    "print_table([\"job_title\", \"employees_count\"], res.fetchall())"
   ]
  },
  {
   "cell_type": "code",
   "execution_count": 10,
   "metadata": {},
   "outputs": [
    {
     "name": "stdout",
     "output_type": "stream",
     "text": [
      "+--------------------------------+-----------------+\n",
      "|           job_title            | employees_count |\n",
      "+--------------------------------+-----------------+\n",
      "|          Stock Clerk           |        20       |\n",
      "|        Purchasing Clerk        |        5        |\n",
      "|         Sales Manager          |        5        |\n",
      "|         Stock Manager          |        5        |\n",
      "|           Accountant           |        5        |\n",
      "|           Programmer           |        5        |\n",
      "| Administration Vice President  |        2        |\n",
      "|        Finance Manager         |        1        |\n",
      "|           President            |        1        |\n",
      "| Human Resources Representative |        1        |\n",
      "|    Administration Assistant    |        1        |\n",
      "|       Marketing Manager        |        1        |\n",
      "|       Purchasing Manager       |        1        |\n",
      "+--------------------------------+-----------------+\n"
     ]
    }
   ],
   "source": [
    "await db.execute(\"\"\"\n",
    "    create or replace function get_job_stats_py()\n",
    "    returns TABLE (job_title varchar(35), employees_count int)\n",
    "    as $$\n",
    "        select job_title, count(job_id) as employees_count\n",
    "        from employees\n",
    "        join jobs using(job_id)\n",
    "        group by job_title\n",
    "        order by employees_count desc;\n",
    "    $$ language sql;\n",
    "\"\"\")\n",
    "\n",
    "res = await db.execute(\"\"\"\n",
    "    select *\n",
    "    from get_job_stats_py();\n",
    "\"\"\")\n",
    "\n",
    "print_table([\"job_title\", \"employees_count\"], res.fetchall())"
   ]
  }
 ],
 "metadata": {
  "kernelspec": {
   "display_name": ".venv",
   "language": "python",
   "name": "python3"
  },
  "language_info": {
   "codemirror_mode": {
    "name": "ipython",
    "version": 3
   },
   "file_extension": ".py",
   "mimetype": "text/x-python",
   "name": "python",
   "nbconvert_exporter": "python",
   "pygments_lexer": "ipython3",
   "version": "3.12.9"
  }
 },
 "nbformat": 4,
 "nbformat_minor": 2
}
